{
 "cells": [
  {
   "cell_type": "markdown",
   "id": "1cb18416-3cb5-4578-8015-18ab92901a56",
   "metadata": {},
   "source": [
    "## Boas Vindas\n",
    "\n",
    "Seja muito bem vindo(a) ao tutorial de implementação do framework Kedro!\n",
    "\n",
    "Nesse notebook iremos executar o passo a passo de todas as operações executadas no projeto exemplo utilizando a base iris.\n",
    "\n",
    "O projeto foi concebido seguindo etapas comumente empregadas na implementacao de um projeto de classificacao em produção. Funções habitualmente utilizadas nesse tipo de processo foram desenvolvidas, de forma a tornar o projeto reaproveitável como template para projetos futuros.\n",
    "\n",
    "O detalhamento da lógica de modularização adotada está presente no artigo referência:\n",
    "https://medium.com/@gdmello.nunes/kedro-construindo-projetos-de-ci%C3%AAncia-de-dados-modulares-prontos-para-produ%C3%A7%C3%A3o-72c30d1c9993\n",
    "\n",
    "As seções do notebook irão se dividir conforme os pipelines modulares implementados no projeto, de forma que observemos os processos realizados em cada etapa:\n",
    "* data_engineering\n",
    "* feature_engineering\n",
    "* machine_learning\n",
    "* deploy_model"
   ]
  },
  {
   "cell_type": "markdown",
   "id": "e0813a23-cf8b-42c1-8652-857bd485698f",
   "metadata": {},
   "source": [
    "## Import de bibliotecas & carregamento de inputs"
   ]
  },
  {
   "cell_type": "code",
   "execution_count": 9,
   "id": "46cca21d-9656-4df3-8c3a-947576e55fda",
   "metadata": {},
   "outputs": [],
   "source": [
    "import pandas as pd\n",
    "import numpy as np\n",
    "\n",
    "from sklearn.model_selection import train_test_split\n",
    "from sklearn.neighbors import KNeighborsClassifier\n",
    "from sklearn.svm import SVC\n",
    "from sklearn.metrics import accuracy_score\n",
    "\n",
    "import plotly.express as px"
   ]
  },
  {
   "cell_type": "code",
   "execution_count": 2,
   "id": "13318726-8d21-4e71-8f00-e9efbe80f2e5",
   "metadata": {},
   "outputs": [
    {
     "data": {
      "text/html": [
       "<div>\n",
       "<style scoped>\n",
       "    .dataframe tbody tr th:only-of-type {\n",
       "        vertical-align: middle;\n",
       "    }\n",
       "\n",
       "    .dataframe tbody tr th {\n",
       "        vertical-align: top;\n",
       "    }\n",
       "\n",
       "    .dataframe thead th {\n",
       "        text-align: right;\n",
       "    }\n",
       "</style>\n",
       "<table border=\"1\" class=\"dataframe\">\n",
       "  <thead>\n",
       "    <tr style=\"text-align: right;\">\n",
       "      <th></th>\n",
       "      <th>Unnamed: 0</th>\n",
       "      <th>example</th>\n",
       "      <th>sepal_length</th>\n",
       "      <th>sepal_width</th>\n",
       "    </tr>\n",
       "  </thead>\n",
       "  <tbody>\n",
       "    <tr>\n",
       "      <th>0</th>\n",
       "      <td>0</td>\n",
       "      <td>0</td>\n",
       "      <td>a- 5,1</td>\n",
       "      <td>3,,5</td>\n",
       "    </tr>\n",
       "    <tr>\n",
       "      <th>1</th>\n",
       "      <td>1</td>\n",
       "      <td>1</td>\n",
       "      <td>a- 4,9</td>\n",
       "      <td>3</td>\n",
       "    </tr>\n",
       "    <tr>\n",
       "      <th>2</th>\n",
       "      <td>2</td>\n",
       "      <td>2</td>\n",
       "      <td>a- 4,7</td>\n",
       "      <td>3,,2</td>\n",
       "    </tr>\n",
       "    <tr>\n",
       "      <th>3</th>\n",
       "      <td>3</td>\n",
       "      <td>3</td>\n",
       "      <td>a- 4,6</td>\n",
       "      <td>3,,1</td>\n",
       "    </tr>\n",
       "    <tr>\n",
       "      <th>4</th>\n",
       "      <td>4</td>\n",
       "      <td>4</td>\n",
       "      <td>a- 5</td>\n",
       "      <td>3,,6</td>\n",
       "    </tr>\n",
       "  </tbody>\n",
       "</table>\n",
       "</div>"
      ],
      "text/plain": [
       "   Unnamed: 0  example sepal_length sepal_width\n",
       "0           0        0       a- 5,1        3,,5\n",
       "1           1        1       a- 4,9           3\n",
       "2           2        2       a- 4,7        3,,2\n",
       "3           3        3       a- 4,6        3,,1\n",
       "4           4        4         a- 5        3,,6"
      ]
     },
     "metadata": {},
     "output_type": "display_data"
    },
    {
     "data": {
      "text/html": [
       "<div>\n",
       "<style scoped>\n",
       "    .dataframe tbody tr th:only-of-type {\n",
       "        vertical-align: middle;\n",
       "    }\n",
       "\n",
       "    .dataframe tbody tr th {\n",
       "        vertical-align: top;\n",
       "    }\n",
       "\n",
       "    .dataframe thead th {\n",
       "        text-align: right;\n",
       "    }\n",
       "</style>\n",
       "<table border=\"1\" class=\"dataframe\">\n",
       "  <thead>\n",
       "    <tr style=\"text-align: right;\">\n",
       "      <th></th>\n",
       "      <th>Unnamed: 0</th>\n",
       "      <th>example</th>\n",
       "      <th>petal_length</th>\n",
       "      <th>petal_width</th>\n",
       "    </tr>\n",
       "  </thead>\n",
       "  <tbody>\n",
       "    <tr>\n",
       "      <th>0</th>\n",
       "      <td>0</td>\n",
       "      <td>0</td>\n",
       "      <td>1,4</td>\n",
       "      <td>0,2</td>\n",
       "    </tr>\n",
       "    <tr>\n",
       "      <th>1</th>\n",
       "      <td>1</td>\n",
       "      <td>1</td>\n",
       "      <td>1,4</td>\n",
       "      <td>0,2</td>\n",
       "    </tr>\n",
       "    <tr>\n",
       "      <th>2</th>\n",
       "      <td>2</td>\n",
       "      <td>2</td>\n",
       "      <td>1,3</td>\n",
       "      <td>0,2</td>\n",
       "    </tr>\n",
       "    <tr>\n",
       "      <th>3</th>\n",
       "      <td>3</td>\n",
       "      <td>3</td>\n",
       "      <td>1,5</td>\n",
       "      <td>0,2</td>\n",
       "    </tr>\n",
       "    <tr>\n",
       "      <th>4</th>\n",
       "      <td>4</td>\n",
       "      <td>4</td>\n",
       "      <td>1,4</td>\n",
       "      <td>0,3</td>\n",
       "    </tr>\n",
       "  </tbody>\n",
       "</table>\n",
       "</div>"
      ],
      "text/plain": [
       "   Unnamed: 0  example petal_length petal_width\n",
       "0           0        0          1,4         0,2\n",
       "1           1        1          1,4         0,2\n",
       "2           2        2          1,3         0,2\n",
       "3           3        3          1,5         0,2\n",
       "4           4        4          1,4         0,3"
      ]
     },
     "metadata": {},
     "output_type": "display_data"
    },
    {
     "data": {
      "text/html": [
       "<div>\n",
       "<style scoped>\n",
       "    .dataframe tbody tr th:only-of-type {\n",
       "        vertical-align: middle;\n",
       "    }\n",
       "\n",
       "    .dataframe tbody tr th {\n",
       "        vertical-align: top;\n",
       "    }\n",
       "\n",
       "    .dataframe thead th {\n",
       "        text-align: right;\n",
       "    }\n",
       "</style>\n",
       "<table border=\"1\" class=\"dataframe\">\n",
       "  <thead>\n",
       "    <tr style=\"text-align: right;\">\n",
       "      <th></th>\n",
       "      <th>Unnamed: 0</th>\n",
       "      <th>example</th>\n",
       "      <th>species</th>\n",
       "    </tr>\n",
       "  </thead>\n",
       "  <tbody>\n",
       "    <tr>\n",
       "      <th>0</th>\n",
       "      <td>0</td>\n",
       "      <td>0</td>\n",
       "      <td>setosa</td>\n",
       "    </tr>\n",
       "    <tr>\n",
       "      <th>1</th>\n",
       "      <td>1</td>\n",
       "      <td>1</td>\n",
       "      <td>setosa</td>\n",
       "    </tr>\n",
       "    <tr>\n",
       "      <th>2</th>\n",
       "      <td>2</td>\n",
       "      <td>2</td>\n",
       "      <td>setosa</td>\n",
       "    </tr>\n",
       "    <tr>\n",
       "      <th>3</th>\n",
       "      <td>3</td>\n",
       "      <td>3</td>\n",
       "      <td>setosa</td>\n",
       "    </tr>\n",
       "    <tr>\n",
       "      <th>4</th>\n",
       "      <td>4</td>\n",
       "      <td>4</td>\n",
       "      <td>setosa</td>\n",
       "    </tr>\n",
       "  </tbody>\n",
       "</table>\n",
       "</div>"
      ],
      "text/plain": [
       "   Unnamed: 0  example species\n",
       "0           0        0  setosa\n",
       "1           1        1  setosa\n",
       "2           2        2  setosa\n",
       "3           3        3  setosa\n",
       "4           4        4  setosa"
      ]
     },
     "metadata": {},
     "output_type": "display_data"
    }
   ],
   "source": [
    "sepal_iris = pd.read_csv('exemplo-kedro-iris/data/01_raw/sepal_iris_data.csv')\n",
    "petal_iris = pd.read_csv('exemplo-kedro-iris/data/01_raw/petal_iris_data.csv')\n",
    "species_iris = pd.read_csv('exemplo-kedro-iris/data/01_raw/species_iris_data.csv')\n",
    "\n",
    "display(sepal_iris.head())\n",
    "display(petal_iris.head())\n",
    "display(species_iris.head())"
   ]
  },
  {
   "cell_type": "markdown",
   "id": "8feea5f2-a4a8-45ba-b29b-ae49c5479080",
   "metadata": {},
   "source": [
    "## data_engineering\n",
    "\n",
    "Módulo responsável pela obtenção e preparação dos dados. Os outputs dessa etapa são bases de dados tratadas na granularidade adequada para a criação das features. \n",
    "No projeto exemplo, realizam-se as etapas de tratamento da base íris:\n",
    "* **concatenacao_inputs:** Unifica dataframes sepal_data, petal_data e species_data em um dataframe único (iris_data)\n",
    "* **limpeza_conversao_colunas:** Trata valores de iris_data, removendo caracteres indesejados e convertendo colunas para float (estavam como string) devido aos caracteres indesejados"
   ]
  },
  {
   "cell_type": "code",
   "execution_count": 3,
   "id": "3b0ae14a-92f7-407a-8277-295c4bdf3009",
   "metadata": {},
   "outputs": [],
   "source": [
    "##################################################\n",
    "def concatenacao_inputs(sepal_data:   pd.DataFrame,\n",
    "                        petal_data:   pd.DataFrame,\n",
    "                        species_data: pd.DataFrame,\n",
    "                       ) -> pd.DataFrame:\n",
    "    \n",
    "    \"\"\"\n",
    "    Unifica dataframes sepal_data, petal_data e species_data em um dataframe único (iris_data)\n",
    "\n",
    "    Args:\n",
    "    sepal_data(pd.DataFrame):   dataframe contendo as informações de sépala\n",
    "    petal_data(pd.DataFrame):   dataframe contendo as informações de pétala\n",
    "    species_data(pd.DataFrame): dataframe contendo os rótulos de espécie de flor\n",
    "\n",
    "    Returns:\n",
    "    iris_data(pd.DataFrame): dataframe contendo todas as informações\n",
    "    \"\"\"\n",
    "    \n",
    "    iris_data = sepal_data[['example','sepal_length','sepal_width']].merge(petal_data[['example','petal_length','petal_width']], \n",
    "                                                                           on = 'example', \n",
    "                                                                           how = 'left'\n",
    "                                                                   ).merge(species_data[['example','species']], \n",
    "                                                                           on = 'example', \n",
    "                                                                           how = 'left'\n",
    "                                                                   )\n",
    "\n",
    "    return iris_data\n",
    "\n",
    "\n",
    "\n",
    "##################################################\n",
    "def limpeza_conversao_colunas(iris_data: pd.DataFrame\n",
    "                             ) -> pd.DataFrame:\n",
    "    \n",
    "    \"\"\"\n",
    "    Trata valores de iris_data, removendo caracteres indesejados e convertendo colunas para float\n",
    "    (estavam como string) devido aos caracteres indesejados\n",
    "\n",
    "    Args:\n",
    "    iris_data(pd.DataFrame): contém informações sem tratamento\n",
    "\n",
    "    Returns:\n",
    "    iris_data(pd.DataFrame): contém informações tratadas comtipo ajustado\n",
    "    \"\"\"\n",
    "\n",
    "    # Trata valores  \n",
    "    iris_data['sepal_length'] = iris_data['sepal_length'].replace({'a- ':'', ',':'.'},regex=True)\n",
    "    iris_data['sepal_width']  = iris_data['sepal_width'].replace({',,':'.',',':'.'},regex=True)\n",
    "    iris_data['petal_length'] = iris_data['petal_length'].replace({',':'.'},regex=True)\n",
    "    iris_data['petal_width']  = iris_data['petal_width'].replace({',':'.'},regex=True)\n",
    "\n",
    "    # Converte colunas\n",
    "    iris_data['sepal_length'] = iris_data['sepal_length'].astype(float)\n",
    "    iris_data['sepal_width']  = iris_data['sepal_width' ].astype(float)\n",
    "    iris_data['petal_length'] = iris_data['petal_length'].astype(float)\n",
    "    iris_data['petal_width']  = iris_data['petal_width' ].astype(float)\n",
    "\n",
    "    # Check consistência tratamentos\n",
    "    print('iris_data tratada. valores nulos por coluna:')\n",
    "    print(iris_data.isna().sum())\n",
    "\n",
    "    return iris_data"
   ]
  },
  {
   "cell_type": "code",
   "execution_count": 5,
   "id": "60600bce-c7ad-4a45-baea-490eb8f6c810",
   "metadata": {},
   "outputs": [
    {
     "data": {
      "text/html": [
       "<div>\n",
       "<style scoped>\n",
       "    .dataframe tbody tr th:only-of-type {\n",
       "        vertical-align: middle;\n",
       "    }\n",
       "\n",
       "    .dataframe tbody tr th {\n",
       "        vertical-align: top;\n",
       "    }\n",
       "\n",
       "    .dataframe thead th {\n",
       "        text-align: right;\n",
       "    }\n",
       "</style>\n",
       "<table border=\"1\" class=\"dataframe\">\n",
       "  <thead>\n",
       "    <tr style=\"text-align: right;\">\n",
       "      <th></th>\n",
       "      <th>example</th>\n",
       "      <th>sepal_length</th>\n",
       "      <th>sepal_width</th>\n",
       "      <th>petal_length</th>\n",
       "      <th>petal_width</th>\n",
       "      <th>species</th>\n",
       "    </tr>\n",
       "  </thead>\n",
       "  <tbody>\n",
       "    <tr>\n",
       "      <th>0</th>\n",
       "      <td>0</td>\n",
       "      <td>a- 5,1</td>\n",
       "      <td>3,,5</td>\n",
       "      <td>1,4</td>\n",
       "      <td>0,2</td>\n",
       "      <td>setosa</td>\n",
       "    </tr>\n",
       "    <tr>\n",
       "      <th>1</th>\n",
       "      <td>1</td>\n",
       "      <td>a- 4,9</td>\n",
       "      <td>3</td>\n",
       "      <td>1,4</td>\n",
       "      <td>0,2</td>\n",
       "      <td>setosa</td>\n",
       "    </tr>\n",
       "    <tr>\n",
       "      <th>2</th>\n",
       "      <td>2</td>\n",
       "      <td>a- 4,7</td>\n",
       "      <td>3,,2</td>\n",
       "      <td>1,3</td>\n",
       "      <td>0,2</td>\n",
       "      <td>setosa</td>\n",
       "    </tr>\n",
       "    <tr>\n",
       "      <th>3</th>\n",
       "      <td>3</td>\n",
       "      <td>a- 4,6</td>\n",
       "      <td>3,,1</td>\n",
       "      <td>1,5</td>\n",
       "      <td>0,2</td>\n",
       "      <td>setosa</td>\n",
       "    </tr>\n",
       "    <tr>\n",
       "      <th>4</th>\n",
       "      <td>4</td>\n",
       "      <td>a- 5</td>\n",
       "      <td>3,,6</td>\n",
       "      <td>1,4</td>\n",
       "      <td>0,3</td>\n",
       "      <td>setosa</td>\n",
       "    </tr>\n",
       "  </tbody>\n",
       "</table>\n",
       "</div>"
      ],
      "text/plain": [
       "   example sepal_length sepal_width petal_length petal_width species\n",
       "0        0       a- 5,1        3,,5          1,4         0,2  setosa\n",
       "1        1       a- 4,9           3          1,4         0,2  setosa\n",
       "2        2       a- 4,7        3,,2          1,3         0,2  setosa\n",
       "3        3       a- 4,6        3,,1          1,5         0,2  setosa\n",
       "4        4         a- 5        3,,6          1,4         0,3  setosa"
      ]
     },
     "metadata": {},
     "output_type": "display_data"
    },
    {
     "name": "stdout",
     "output_type": "stream",
     "text": [
      "example          int64\n",
      "sepal_length    object\n",
      "sepal_width     object\n",
      "petal_length    object\n",
      "petal_width     object\n",
      "species         object\n",
      "dtype: object\n",
      "iris_data tratada. valores nulos por coluna:\n",
      "example         0\n",
      "sepal_length    0\n",
      "sepal_width     0\n",
      "petal_length    0\n",
      "petal_width     0\n",
      "species         0\n",
      "dtype: int64\n"
     ]
    },
    {
     "data": {
      "text/html": [
       "<div>\n",
       "<style scoped>\n",
       "    .dataframe tbody tr th:only-of-type {\n",
       "        vertical-align: middle;\n",
       "    }\n",
       "\n",
       "    .dataframe tbody tr th {\n",
       "        vertical-align: top;\n",
       "    }\n",
       "\n",
       "    .dataframe thead th {\n",
       "        text-align: right;\n",
       "    }\n",
       "</style>\n",
       "<table border=\"1\" class=\"dataframe\">\n",
       "  <thead>\n",
       "    <tr style=\"text-align: right;\">\n",
       "      <th></th>\n",
       "      <th>example</th>\n",
       "      <th>sepal_length</th>\n",
       "      <th>sepal_width</th>\n",
       "      <th>petal_length</th>\n",
       "      <th>petal_width</th>\n",
       "      <th>species</th>\n",
       "    </tr>\n",
       "  </thead>\n",
       "  <tbody>\n",
       "    <tr>\n",
       "      <th>0</th>\n",
       "      <td>0</td>\n",
       "      <td>5.1</td>\n",
       "      <td>3.5</td>\n",
       "      <td>1.4</td>\n",
       "      <td>0.2</td>\n",
       "      <td>setosa</td>\n",
       "    </tr>\n",
       "    <tr>\n",
       "      <th>1</th>\n",
       "      <td>1</td>\n",
       "      <td>4.9</td>\n",
       "      <td>3.0</td>\n",
       "      <td>1.4</td>\n",
       "      <td>0.2</td>\n",
       "      <td>setosa</td>\n",
       "    </tr>\n",
       "    <tr>\n",
       "      <th>2</th>\n",
       "      <td>2</td>\n",
       "      <td>4.7</td>\n",
       "      <td>3.2</td>\n",
       "      <td>1.3</td>\n",
       "      <td>0.2</td>\n",
       "      <td>setosa</td>\n",
       "    </tr>\n",
       "    <tr>\n",
       "      <th>3</th>\n",
       "      <td>3</td>\n",
       "      <td>4.6</td>\n",
       "      <td>3.1</td>\n",
       "      <td>1.5</td>\n",
       "      <td>0.2</td>\n",
       "      <td>setosa</td>\n",
       "    </tr>\n",
       "    <tr>\n",
       "      <th>4</th>\n",
       "      <td>4</td>\n",
       "      <td>5.0</td>\n",
       "      <td>3.6</td>\n",
       "      <td>1.4</td>\n",
       "      <td>0.3</td>\n",
       "      <td>setosa</td>\n",
       "    </tr>\n",
       "  </tbody>\n",
       "</table>\n",
       "</div>"
      ],
      "text/plain": [
       "   example  sepal_length  sepal_width  petal_length  petal_width species\n",
       "0        0           5.1          3.5           1.4          0.2  setosa\n",
       "1        1           4.9          3.0           1.4          0.2  setosa\n",
       "2        2           4.7          3.2           1.3          0.2  setosa\n",
       "3        3           4.6          3.1           1.5          0.2  setosa\n",
       "4        4           5.0          3.6           1.4          0.3  setosa"
      ]
     },
     "metadata": {},
     "output_type": "display_data"
    }
   ],
   "source": [
    "iris_data_raw = concatenacao_inputs(sepal_iris,\n",
    "                                    petal_iris,\n",
    "                                    species_iris\n",
    "                                   )\n",
    "\n",
    "display(iris_data_raw.head())\n",
    "print(iris_data_raw.dtypes)\n",
    "\n",
    "iris_data = limpeza_conversao_colunas(iris_data_raw\n",
    "                                     )\n",
    "\n",
    "\n",
    "display(iris_data.head())"
   ]
  },
  {
   "cell_type": "markdown",
   "id": "db8862d3-c533-4db4-84ab-f669db060257",
   "metadata": {},
   "source": [
    "## feature_engineering\n",
    "\n",
    "Módulo responsável pela criação do dataset com todas as features necessárias para treino e deploy do(s) modelo(s). \n",
    "No exemplo, criam-se 2 novas features:\n",
    "* **calcula_features_area:** Calcula features de área da sépala e área da pétala no dataframe iris_data"
   ]
  },
  {
   "cell_type": "code",
   "execution_count": 6,
   "id": "abb3d891-2c3d-441d-88c6-9c60f41a9a7f",
   "metadata": {},
   "outputs": [],
   "source": [
    "##################################################\n",
    "def calcula_features_area(iris_data:   pd.DataFrame,\n",
    "                         ) -> pd.DataFrame:\n",
    "    \n",
    "    \"\"\"\n",
    "    Calcula features de área da sépala e área da pétala no dataframe iris_data\n",
    "\n",
    "    Args:\n",
    "    iris_data(pd.DataFrame): dataframe original\n",
    "\n",
    "    Returns:\n",
    "    iris_features(pd.DataFrame): dataframe contendo as features calculadas\n",
    "    \"\"\"\n",
    "    \n",
    "    iris_features = iris_data.copy()\n",
    "\n",
    "    iris_features['sepal_area'] = iris_features['sepal_length'] * iris_features['sepal_width']\n",
    "    iris_features['petal_area'] = iris_features['petal_length'] * iris_features['petal_width']\n",
    "\n",
    "    return iris_features"
   ]
  },
  {
   "cell_type": "code",
   "execution_count": 12,
   "id": "13718f0f-8f47-4e1a-a181-2dd2753f114b",
   "metadata": {},
   "outputs": [
    {
     "data": {
      "text/html": [
       "<div>\n",
       "<style scoped>\n",
       "    .dataframe tbody tr th:only-of-type {\n",
       "        vertical-align: middle;\n",
       "    }\n",
       "\n",
       "    .dataframe tbody tr th {\n",
       "        vertical-align: top;\n",
       "    }\n",
       "\n",
       "    .dataframe thead th {\n",
       "        text-align: right;\n",
       "    }\n",
       "</style>\n",
       "<table border=\"1\" class=\"dataframe\">\n",
       "  <thead>\n",
       "    <tr style=\"text-align: right;\">\n",
       "      <th></th>\n",
       "      <th>example</th>\n",
       "      <th>sepal_length</th>\n",
       "      <th>sepal_width</th>\n",
       "      <th>petal_length</th>\n",
       "      <th>petal_width</th>\n",
       "      <th>species</th>\n",
       "      <th>sepal_area</th>\n",
       "      <th>petal_area</th>\n",
       "    </tr>\n",
       "  </thead>\n",
       "  <tbody>\n",
       "    <tr>\n",
       "      <th>0</th>\n",
       "      <td>0</td>\n",
       "      <td>5.1</td>\n",
       "      <td>3.5</td>\n",
       "      <td>1.4</td>\n",
       "      <td>0.2</td>\n",
       "      <td>setosa</td>\n",
       "      <td>17.85</td>\n",
       "      <td>0.28</td>\n",
       "    </tr>\n",
       "    <tr>\n",
       "      <th>1</th>\n",
       "      <td>1</td>\n",
       "      <td>4.9</td>\n",
       "      <td>3.0</td>\n",
       "      <td>1.4</td>\n",
       "      <td>0.2</td>\n",
       "      <td>setosa</td>\n",
       "      <td>14.70</td>\n",
       "      <td>0.28</td>\n",
       "    </tr>\n",
       "    <tr>\n",
       "      <th>2</th>\n",
       "      <td>2</td>\n",
       "      <td>4.7</td>\n",
       "      <td>3.2</td>\n",
       "      <td>1.3</td>\n",
       "      <td>0.2</td>\n",
       "      <td>setosa</td>\n",
       "      <td>15.04</td>\n",
       "      <td>0.26</td>\n",
       "    </tr>\n",
       "    <tr>\n",
       "      <th>3</th>\n",
       "      <td>3</td>\n",
       "      <td>4.6</td>\n",
       "      <td>3.1</td>\n",
       "      <td>1.5</td>\n",
       "      <td>0.2</td>\n",
       "      <td>setosa</td>\n",
       "      <td>14.26</td>\n",
       "      <td>0.30</td>\n",
       "    </tr>\n",
       "    <tr>\n",
       "      <th>4</th>\n",
       "      <td>4</td>\n",
       "      <td>5.0</td>\n",
       "      <td>3.6</td>\n",
       "      <td>1.4</td>\n",
       "      <td>0.3</td>\n",
       "      <td>setosa</td>\n",
       "      <td>18.00</td>\n",
       "      <td>0.42</td>\n",
       "    </tr>\n",
       "  </tbody>\n",
       "</table>\n",
       "</div>"
      ],
      "text/plain": [
       "   example  sepal_length  sepal_width  petal_length  petal_width species  \\\n",
       "0        0           5.1          3.5           1.4          0.2  setosa   \n",
       "1        1           4.9          3.0           1.4          0.2  setosa   \n",
       "2        2           4.7          3.2           1.3          0.2  setosa   \n",
       "3        3           4.6          3.1           1.5          0.2  setosa   \n",
       "4        4           5.0          3.6           1.4          0.3  setosa   \n",
       "\n",
       "   sepal_area  petal_area  \n",
       "0       17.85        0.28  \n",
       "1       14.70        0.28  \n",
       "2       15.04        0.26  \n",
       "3       14.26        0.30  \n",
       "4       18.00        0.42  "
      ]
     },
     "metadata": {},
     "output_type": "display_data"
    },
    {
     "data": {
      "application/vnd.plotly.v1+json": {
       "config": {
        "plotlyServerURL": "https://plot.ly"
       },
       "data": [
        {
         "hovertemplate": "species=setosa<br>sepal_area=%{x}<br>petal_area=%{y}<extra></extra>",
         "legendgroup": "setosa",
         "marker": {
          "color": "#636efa",
          "symbol": "circle"
         },
         "mode": "markers",
         "name": "setosa",
         "orientation": "v",
         "showlegend": true,
         "type": "scatter",
         "x": [
          17.849999999999998,
          14.700000000000001,
          15.040000000000001,
          14.26,
          18,
          21.060000000000002,
          15.639999999999999,
          17,
          12.76,
          15.190000000000001,
          19.980000000000004,
          16.32,
          14.399999999999999,
          12.899999999999999,
          23.2,
          25.080000000000002,
          21.060000000000002,
          17.849999999999998,
          21.66,
          19.38,
          18.36,
          18.87,
          16.56,
          16.83,
          16.32,
          15,
          17,
          18.2,
          17.68,
          15.040000000000001,
          14.879999999999999,
          18.36,
          21.32,
          23.1,
          15.190000000000001,
          16,
          19.25,
          17.64,
          13.200000000000001,
          17.34,
          17.5,
          10.35,
          14.080000000000002,
          17.5,
          19.38,
          14.399999999999999,
          19.38,
          14.719999999999999,
          19.61,
          16.5
         ],
         "xaxis": "x",
         "y": [
          0.27999999999999997,
          0.27999999999999997,
          0.26,
          0.30000000000000004,
          0.42,
          0.68,
          0.42,
          0.30000000000000004,
          0.27999999999999997,
          0.15000000000000002,
          0.30000000000000004,
          0.32000000000000006,
          0.13999999999999999,
          0.11000000000000001,
          0.24,
          0.6000000000000001,
          0.52,
          0.42,
          0.51,
          0.44999999999999996,
          0.34,
          0.6000000000000001,
          0.2,
          0.85,
          0.38,
          0.32000000000000006,
          0.6400000000000001,
          0.30000000000000004,
          0.27999999999999997,
          0.32000000000000006,
          0.32000000000000006,
          0.6000000000000001,
          0.15000000000000002,
          0.27999999999999997,
          0.30000000000000004,
          0.24,
          0.26,
          0.13999999999999999,
          0.26,
          0.30000000000000004,
          0.39,
          0.39,
          0.26,
          0.96,
          0.76,
          0.42,
          0.32000000000000006,
          0.27999999999999997,
          0.30000000000000004,
          0.27999999999999997
         ],
         "yaxis": "y"
        },
        {
         "hovertemplate": "species=versicolor<br>sepal_area=%{x}<br>petal_area=%{y}<extra></extra>",
         "legendgroup": "versicolor",
         "marker": {
          "color": "#EF553B",
          "symbol": "circle"
         },
         "mode": "markers",
         "name": "versicolor",
         "orientation": "v",
         "showlegend": true,
         "type": "scatter",
         "x": [
          22.400000000000002,
          20.480000000000004,
          21.39,
          12.649999999999999,
          18.2,
          15.959999999999999,
          20.79,
          11.76,
          19.139999999999997,
          14.040000000000001,
          10,
          17.700000000000003,
          13.200000000000001,
          17.689999999999998,
          16.24,
          20.77,
          16.799999999999997,
          15.66,
          13.640000000000002,
          14,
          18.880000000000003,
          17.08,
          15.75,
          17.08,
          18.56,
          19.799999999999997,
          19.04,
          20.1,
          17.4,
          14.82,
          13.2,
          13.2,
          15.66,
          16.200000000000003,
          16.200000000000003,
          20.4,
          20.77,
          14.489999999999998,
          16.799999999999997,
          13.75,
          14.3,
          18.299999999999997,
          15.08,
          11.5,
          15.12,
          17.1,
          16.53,
          17.98,
          12.75,
          15.959999999999999
         ],
         "xaxis": "x",
         "y": [
          6.58,
          6.75,
          7.3500000000000005,
          5.2,
          6.8999999999999995,
          5.8500000000000005,
          7.5200000000000005,
          3.3,
          5.9799999999999995,
          5.46,
          3.5,
          6.300000000000001,
          4,
          6.58,
          4.680000000000001,
          6.16,
          6.75,
          4.1,
          6.75,
          4.29,
          8.64,
          5.2,
          7.3500000000000005,
          5.64,
          5.59,
          6.16,
          6.72,
          8.5,
          6.75,
          3.5,
          4.18,
          3.7,
          4.68,
          8.16,
          6.75,
          7.2,
          7.050000000000001,
          5.720000000000001,
          5.33,
          5.2,
          5.28,
          6.4399999999999995,
          4.8,
          3.3,
          5.460000000000001,
          5.04,
          5.460000000000001,
          5.59,
          3.3000000000000003,
          5.33
         ],
         "yaxis": "y"
        },
        {
         "hovertemplate": "species=virginica<br>sepal_area=%{x}<br>petal_area=%{y}<extra></extra>",
         "legendgroup": "virginica",
         "marker": {
          "color": "#00cc96",
          "symbol": "circle"
         },
         "mode": "markers",
         "name": "virginica",
         "orientation": "v",
         "showlegend": true,
         "type": "scatter",
         "x": [
          20.79,
          15.66,
          21.299999999999997,
          18.27,
          19.5,
          22.799999999999997,
          12.25,
          21.169999999999998,
          16.75,
          25.92,
          20.8,
          17.28,
          20.4,
          14.25,
          16.24,
          20.480000000000004,
          19.5,
          29.259999999999998,
          20.02,
          13.200000000000001,
          22.080000000000002,
          15.679999999999998,
          21.56,
          17.01,
          22.11,
          23.040000000000003,
          17.36,
          18.299999999999997,
          17.919999999999998,
          21.6,
          20.72,
          30.02,
          17.919999999999998,
          17.639999999999997,
          15.86,
          23.1,
          21.419999999999998,
          19.840000000000003,
          18,
          21.39,
          20.77,
          21.39,
          15.66,
          21.76,
          22.11,
          20.1,
          15.75,
          19.5,
          21.08,
          17.700000000000003
         ],
         "xaxis": "x",
         "y": [
          15,
          9.69,
          12.39,
          10.08,
          12.76,
          13.86,
          7.6499999999999995,
          11.34,
          10.44,
          15.25,
          10.2,
          10.069999999999999,
          11.55,
          10,
          12.239999999999998,
          12.19,
          9.9,
          14.740000000000002,
          15.87,
          7.5,
          13.11,
          9.8,
          13.4,
          8.82,
          11.97,
          10.8,
          8.64,
          8.82,
          11.76,
          9.28,
          11.589999999999998,
          12.8,
          12.32,
          7.6499999999999995,
          7.839999999999999,
          14.029999999999998,
          13.44,
          9.9,
          8.64,
          11.340000000000002,
          13.44,
          11.729999999999999,
          9.69,
          13.57,
          14.25,
          11.959999999999999,
          9.5,
          10.4,
          12.42,
          9.18
         ],
         "yaxis": "y"
        }
       ],
       "layout": {
        "autosize": true,
        "legend": {
         "title": {
          "text": "species"
         },
         "tracegroupgap": 0
        },
        "margin": {
         "t": 60
        },
        "template": {
         "data": {
          "bar": [
           {
            "error_x": {
             "color": "#2a3f5f"
            },
            "error_y": {
             "color": "#2a3f5f"
            },
            "marker": {
             "line": {
              "color": "#E5ECF6",
              "width": 0.5
             }
            },
            "type": "bar"
           }
          ],
          "barpolar": [
           {
            "marker": {
             "line": {
              "color": "#E5ECF6",
              "width": 0.5
             }
            },
            "type": "barpolar"
           }
          ],
          "carpet": [
           {
            "aaxis": {
             "endlinecolor": "#2a3f5f",
             "gridcolor": "white",
             "linecolor": "white",
             "minorgridcolor": "white",
             "startlinecolor": "#2a3f5f"
            },
            "baxis": {
             "endlinecolor": "#2a3f5f",
             "gridcolor": "white",
             "linecolor": "white",
             "minorgridcolor": "white",
             "startlinecolor": "#2a3f5f"
            },
            "type": "carpet"
           }
          ],
          "choropleth": [
           {
            "colorbar": {
             "outlinewidth": 0,
             "ticks": ""
            },
            "type": "choropleth"
           }
          ],
          "contour": [
           {
            "colorbar": {
             "outlinewidth": 0,
             "ticks": ""
            },
            "colorscale": [
             [
              0,
              "#0d0887"
             ],
             [
              0.1111111111111111,
              "#46039f"
             ],
             [
              0.2222222222222222,
              "#7201a8"
             ],
             [
              0.3333333333333333,
              "#9c179e"
             ],
             [
              0.4444444444444444,
              "#bd3786"
             ],
             [
              0.5555555555555556,
              "#d8576b"
             ],
             [
              0.6666666666666666,
              "#ed7953"
             ],
             [
              0.7777777777777778,
              "#fb9f3a"
             ],
             [
              0.8888888888888888,
              "#fdca26"
             ],
             [
              1,
              "#f0f921"
             ]
            ],
            "type": "contour"
           }
          ],
          "contourcarpet": [
           {
            "colorbar": {
             "outlinewidth": 0,
             "ticks": ""
            },
            "type": "contourcarpet"
           }
          ],
          "heatmap": [
           {
            "colorbar": {
             "outlinewidth": 0,
             "ticks": ""
            },
            "colorscale": [
             [
              0,
              "#0d0887"
             ],
             [
              0.1111111111111111,
              "#46039f"
             ],
             [
              0.2222222222222222,
              "#7201a8"
             ],
             [
              0.3333333333333333,
              "#9c179e"
             ],
             [
              0.4444444444444444,
              "#bd3786"
             ],
             [
              0.5555555555555556,
              "#d8576b"
             ],
             [
              0.6666666666666666,
              "#ed7953"
             ],
             [
              0.7777777777777778,
              "#fb9f3a"
             ],
             [
              0.8888888888888888,
              "#fdca26"
             ],
             [
              1,
              "#f0f921"
             ]
            ],
            "type": "heatmap"
           }
          ],
          "heatmapgl": [
           {
            "colorbar": {
             "outlinewidth": 0,
             "ticks": ""
            },
            "colorscale": [
             [
              0,
              "#0d0887"
             ],
             [
              0.1111111111111111,
              "#46039f"
             ],
             [
              0.2222222222222222,
              "#7201a8"
             ],
             [
              0.3333333333333333,
              "#9c179e"
             ],
             [
              0.4444444444444444,
              "#bd3786"
             ],
             [
              0.5555555555555556,
              "#d8576b"
             ],
             [
              0.6666666666666666,
              "#ed7953"
             ],
             [
              0.7777777777777778,
              "#fb9f3a"
             ],
             [
              0.8888888888888888,
              "#fdca26"
             ],
             [
              1,
              "#f0f921"
             ]
            ],
            "type": "heatmapgl"
           }
          ],
          "histogram": [
           {
            "marker": {
             "colorbar": {
              "outlinewidth": 0,
              "ticks": ""
             }
            },
            "type": "histogram"
           }
          ],
          "histogram2d": [
           {
            "colorbar": {
             "outlinewidth": 0,
             "ticks": ""
            },
            "colorscale": [
             [
              0,
              "#0d0887"
             ],
             [
              0.1111111111111111,
              "#46039f"
             ],
             [
              0.2222222222222222,
              "#7201a8"
             ],
             [
              0.3333333333333333,
              "#9c179e"
             ],
             [
              0.4444444444444444,
              "#bd3786"
             ],
             [
              0.5555555555555556,
              "#d8576b"
             ],
             [
              0.6666666666666666,
              "#ed7953"
             ],
             [
              0.7777777777777778,
              "#fb9f3a"
             ],
             [
              0.8888888888888888,
              "#fdca26"
             ],
             [
              1,
              "#f0f921"
             ]
            ],
            "type": "histogram2d"
           }
          ],
          "histogram2dcontour": [
           {
            "colorbar": {
             "outlinewidth": 0,
             "ticks": ""
            },
            "colorscale": [
             [
              0,
              "#0d0887"
             ],
             [
              0.1111111111111111,
              "#46039f"
             ],
             [
              0.2222222222222222,
              "#7201a8"
             ],
             [
              0.3333333333333333,
              "#9c179e"
             ],
             [
              0.4444444444444444,
              "#bd3786"
             ],
             [
              0.5555555555555556,
              "#d8576b"
             ],
             [
              0.6666666666666666,
              "#ed7953"
             ],
             [
              0.7777777777777778,
              "#fb9f3a"
             ],
             [
              0.8888888888888888,
              "#fdca26"
             ],
             [
              1,
              "#f0f921"
             ]
            ],
            "type": "histogram2dcontour"
           }
          ],
          "mesh3d": [
           {
            "colorbar": {
             "outlinewidth": 0,
             "ticks": ""
            },
            "type": "mesh3d"
           }
          ],
          "parcoords": [
           {
            "line": {
             "colorbar": {
              "outlinewidth": 0,
              "ticks": ""
             }
            },
            "type": "parcoords"
           }
          ],
          "pie": [
           {
            "automargin": true,
            "type": "pie"
           }
          ],
          "scatter": [
           {
            "marker": {
             "colorbar": {
              "outlinewidth": 0,
              "ticks": ""
             }
            },
            "type": "scatter"
           }
          ],
          "scatter3d": [
           {
            "line": {
             "colorbar": {
              "outlinewidth": 0,
              "ticks": ""
             }
            },
            "marker": {
             "colorbar": {
              "outlinewidth": 0,
              "ticks": ""
             }
            },
            "type": "scatter3d"
           }
          ],
          "scattercarpet": [
           {
            "marker": {
             "colorbar": {
              "outlinewidth": 0,
              "ticks": ""
             }
            },
            "type": "scattercarpet"
           }
          ],
          "scattergeo": [
           {
            "marker": {
             "colorbar": {
              "outlinewidth": 0,
              "ticks": ""
             }
            },
            "type": "scattergeo"
           }
          ],
          "scattergl": [
           {
            "marker": {
             "colorbar": {
              "outlinewidth": 0,
              "ticks": ""
             }
            },
            "type": "scattergl"
           }
          ],
          "scattermapbox": [
           {
            "marker": {
             "colorbar": {
              "outlinewidth": 0,
              "ticks": ""
             }
            },
            "type": "scattermapbox"
           }
          ],
          "scatterpolar": [
           {
            "marker": {
             "colorbar": {
              "outlinewidth": 0,
              "ticks": ""
             }
            },
            "type": "scatterpolar"
           }
          ],
          "scatterpolargl": [
           {
            "marker": {
             "colorbar": {
              "outlinewidth": 0,
              "ticks": ""
             }
            },
            "type": "scatterpolargl"
           }
          ],
          "scatterternary": [
           {
            "marker": {
             "colorbar": {
              "outlinewidth": 0,
              "ticks": ""
             }
            },
            "type": "scatterternary"
           }
          ],
          "surface": [
           {
            "colorbar": {
             "outlinewidth": 0,
             "ticks": ""
            },
            "colorscale": [
             [
              0,
              "#0d0887"
             ],
             [
              0.1111111111111111,
              "#46039f"
             ],
             [
              0.2222222222222222,
              "#7201a8"
             ],
             [
              0.3333333333333333,
              "#9c179e"
             ],
             [
              0.4444444444444444,
              "#bd3786"
             ],
             [
              0.5555555555555556,
              "#d8576b"
             ],
             [
              0.6666666666666666,
              "#ed7953"
             ],
             [
              0.7777777777777778,
              "#fb9f3a"
             ],
             [
              0.8888888888888888,
              "#fdca26"
             ],
             [
              1,
              "#f0f921"
             ]
            ],
            "type": "surface"
           }
          ],
          "table": [
           {
            "cells": {
             "fill": {
              "color": "#EBF0F8"
             },
             "line": {
              "color": "white"
             }
            },
            "header": {
             "fill": {
              "color": "#C8D4E3"
             },
             "line": {
              "color": "white"
             }
            },
            "type": "table"
           }
          ]
         },
         "layout": {
          "annotationdefaults": {
           "arrowcolor": "#2a3f5f",
           "arrowhead": 0,
           "arrowwidth": 1
          },
          "autotypenumbers": "strict",
          "coloraxis": {
           "colorbar": {
            "outlinewidth": 0,
            "ticks": ""
           }
          },
          "colorscale": {
           "diverging": [
            [
             0,
             "#8e0152"
            ],
            [
             0.1,
             "#c51b7d"
            ],
            [
             0.2,
             "#de77ae"
            ],
            [
             0.3,
             "#f1b6da"
            ],
            [
             0.4,
             "#fde0ef"
            ],
            [
             0.5,
             "#f7f7f7"
            ],
            [
             0.6,
             "#e6f5d0"
            ],
            [
             0.7,
             "#b8e186"
            ],
            [
             0.8,
             "#7fbc41"
            ],
            [
             0.9,
             "#4d9221"
            ],
            [
             1,
             "#276419"
            ]
           ],
           "sequential": [
            [
             0,
             "#0d0887"
            ],
            [
             0.1111111111111111,
             "#46039f"
            ],
            [
             0.2222222222222222,
             "#7201a8"
            ],
            [
             0.3333333333333333,
             "#9c179e"
            ],
            [
             0.4444444444444444,
             "#bd3786"
            ],
            [
             0.5555555555555556,
             "#d8576b"
            ],
            [
             0.6666666666666666,
             "#ed7953"
            ],
            [
             0.7777777777777778,
             "#fb9f3a"
            ],
            [
             0.8888888888888888,
             "#fdca26"
            ],
            [
             1,
             "#f0f921"
            ]
           ],
           "sequentialminus": [
            [
             0,
             "#0d0887"
            ],
            [
             0.1111111111111111,
             "#46039f"
            ],
            [
             0.2222222222222222,
             "#7201a8"
            ],
            [
             0.3333333333333333,
             "#9c179e"
            ],
            [
             0.4444444444444444,
             "#bd3786"
            ],
            [
             0.5555555555555556,
             "#d8576b"
            ],
            [
             0.6666666666666666,
             "#ed7953"
            ],
            [
             0.7777777777777778,
             "#fb9f3a"
            ],
            [
             0.8888888888888888,
             "#fdca26"
            ],
            [
             1,
             "#f0f921"
            ]
           ]
          },
          "colorway": [
           "#636efa",
           "#EF553B",
           "#00cc96",
           "#ab63fa",
           "#FFA15A",
           "#19d3f3",
           "#FF6692",
           "#B6E880",
           "#FF97FF",
           "#FECB52"
          ],
          "font": {
           "color": "#2a3f5f"
          },
          "geo": {
           "bgcolor": "white",
           "lakecolor": "white",
           "landcolor": "#E5ECF6",
           "showlakes": true,
           "showland": true,
           "subunitcolor": "white"
          },
          "hoverlabel": {
           "align": "left"
          },
          "hovermode": "closest",
          "mapbox": {
           "style": "light"
          },
          "paper_bgcolor": "white",
          "plot_bgcolor": "#E5ECF6",
          "polar": {
           "angularaxis": {
            "gridcolor": "white",
            "linecolor": "white",
            "ticks": ""
           },
           "bgcolor": "#E5ECF6",
           "radialaxis": {
            "gridcolor": "white",
            "linecolor": "white",
            "ticks": ""
           }
          },
          "scene": {
           "xaxis": {
            "backgroundcolor": "#E5ECF6",
            "gridcolor": "white",
            "gridwidth": 2,
            "linecolor": "white",
            "showbackground": true,
            "ticks": "",
            "zerolinecolor": "white"
           },
           "yaxis": {
            "backgroundcolor": "#E5ECF6",
            "gridcolor": "white",
            "gridwidth": 2,
            "linecolor": "white",
            "showbackground": true,
            "ticks": "",
            "zerolinecolor": "white"
           },
           "zaxis": {
            "backgroundcolor": "#E5ECF6",
            "gridcolor": "white",
            "gridwidth": 2,
            "linecolor": "white",
            "showbackground": true,
            "ticks": "",
            "zerolinecolor": "white"
           }
          },
          "shapedefaults": {
           "line": {
            "color": "#2a3f5f"
           }
          },
          "ternary": {
           "aaxis": {
            "gridcolor": "white",
            "linecolor": "white",
            "ticks": ""
           },
           "baxis": {
            "gridcolor": "white",
            "linecolor": "white",
            "ticks": ""
           },
           "bgcolor": "#E5ECF6",
           "caxis": {
            "gridcolor": "white",
            "linecolor": "white",
            "ticks": ""
           }
          },
          "title": {
           "x": 0.05
          },
          "xaxis": {
           "automargin": true,
           "gridcolor": "white",
           "linecolor": "white",
           "ticks": "",
           "title": {
            "standoff": 15
           },
           "zerolinecolor": "white",
           "zerolinewidth": 2
          },
          "yaxis": {
           "automargin": true,
           "gridcolor": "white",
           "linecolor": "white",
           "ticks": "",
           "title": {
            "standoff": 15
           },
           "zerolinecolor": "white",
           "zerolinewidth": 2
          }
         }
        },
        "xaxis": {
         "anchor": "y",
         "autorange": true,
         "domain": [
          0,
          1
         ],
         "range": [
          8.815348615090736,
          31.204651384909265
         ],
         "title": {
          "text": "sepal_area"
         },
         "type": "linear"
        },
        "yaxis": {
         "anchor": "x",
         "autorange": true,
         "domain": [
          0,
          1
         ],
         "range": [
          -1.1102624671916008,
          17.0902624671916
         ],
         "title": {
          "text": "petal_area"
         },
         "type": "linear"
        }
       }
      },
      "image/png": "[encoded data removed]",
      "text/html": [
       "<div>                            <div id=\"6db25964-3b6e-455e-871b-82a5d541ecc3\" class=\"plotly-graph-div\" style=\"height:525px; width:100%;\"></div>            <script type=\"text/javascript\">                require([\"plotly\"], function(Plotly) {                    window.PLOTLYENV=window.PLOTLYENV || {};                                    if (document.getElementById(\"6db25964-3b6e-455e-871b-82a5d541ecc3\")) {                    Plotly.newPlot(                        \"6db25964-3b6e-455e-871b-82a5d541ecc3\",                        [{\"hovertemplate\": \"species=setosa<br>sepal_area=%{x}<br>petal_area=%{y}<extra></extra>\", \"legendgroup\": \"setosa\", \"marker\": {\"color\": \"#636efa\", \"symbol\": \"circle\"}, \"mode\": \"markers\", \"name\": \"setosa\", \"orientation\": \"v\", \"showlegend\": true, \"type\": \"scatter\", \"x\": [17.849999999999998, 14.700000000000001, 15.040000000000001, 14.26, 18.0, 21.060000000000002, 15.639999999999999, 17.0, 12.76, 15.190000000000001, 19.980000000000004, 16.32, 14.399999999999999, 12.899999999999999, 23.2, 25.080000000000002, 21.060000000000002, 17.849999999999998, 21.66, 19.38, 18.36, 18.87, 16.56, 16.83, 16.32, 15.0, 17.0, 18.2, 17.68, 15.040000000000001, 14.879999999999999, 18.36, 21.32, 23.1, 15.190000000000001, 16.0, 19.25, 17.64, 13.200000000000001, 17.34, 17.5, 10.35, 14.080000000000002, 17.5, 19.38, 14.399999999999999, 19.38, 14.719999999999999, 19.61, 16.5], \"xaxis\": \"x\", \"y\": [0.27999999999999997, 0.27999999999999997, 0.26, 0.30000000000000004, 0.42, 0.68, 0.42, 0.30000000000000004, 0.27999999999999997, 0.15000000000000002, 0.30000000000000004, 0.32000000000000006, 0.13999999999999999, 0.11000000000000001, 0.24, 0.6000000000000001, 0.52, 0.42, 0.51, 0.44999999999999996, 0.34, 0.6000000000000001, 0.2, 0.85, 0.38, 0.32000000000000006, 0.6400000000000001, 0.30000000000000004, 0.27999999999999997, 0.32000000000000006, 0.32000000000000006, 0.6000000000000001, 0.15000000000000002, 0.27999999999999997, 0.30000000000000004, 0.24, 0.26, 0.13999999999999999, 0.26, 0.30000000000000004, 0.39, 0.39, 0.26, 0.96, 0.76, 0.42, 0.32000000000000006, 0.27999999999999997, 0.30000000000000004, 0.27999999999999997], \"yaxis\": \"y\"}, {\"hovertemplate\": \"species=versicolor<br>sepal_area=%{x}<br>petal_area=%{y}<extra></extra>\", \"legendgroup\": \"versicolor\", \"marker\": {\"color\": \"#EF553B\", \"symbol\": \"circle\"}, \"mode\": \"markers\", \"name\": \"versicolor\", \"orientation\": \"v\", \"showlegend\": true, \"type\": \"scatter\", \"x\": [22.400000000000002, 20.480000000000004, 21.39, 12.649999999999999, 18.2, 15.959999999999999, 20.79, 11.76, 19.139999999999997, 14.040000000000001, 10.0, 17.700000000000003, 13.200000000000001, 17.689999999999998, 16.24, 20.77, 16.799999999999997, 15.66, 13.640000000000002, 14.0, 18.880000000000003, 17.08, 15.75, 17.08, 18.56, 19.799999999999997, 19.04, 20.1, 17.4, 14.82, 13.2, 13.2, 15.66, 16.200000000000003, 16.200000000000003, 20.4, 20.77, 14.489999999999998, 16.799999999999997, 13.75, 14.3, 18.299999999999997, 15.08, 11.5, 15.12, 17.1, 16.53, 17.98, 12.75, 15.959999999999999], \"xaxis\": \"x\", \"y\": [6.58, 6.75, 7.3500000000000005, 5.2, 6.8999999999999995, 5.8500000000000005, 7.5200000000000005, 3.3, 5.9799999999999995, 5.46, 3.5, 6.300000000000001, 4.0, 6.58, 4.680000000000001, 6.16, 6.75, 4.1, 6.75, 4.29, 8.64, 5.2, 7.3500000000000005, 5.64, 5.59, 6.16, 6.72, 8.5, 6.75, 3.5, 4.18, 3.7, 4.68, 8.16, 6.75, 7.2, 7.050000000000001, 5.720000000000001, 5.33, 5.2, 5.28, 6.4399999999999995, 4.8, 3.3, 5.460000000000001, 5.04, 5.460000000000001, 5.59, 3.3000000000000003, 5.33], \"yaxis\": \"y\"}, {\"hovertemplate\": \"species=virginica<br>sepal_area=%{x}<br>petal_area=%{y}<extra></extra>\", \"legendgroup\": \"virginica\", \"marker\": {\"color\": \"#00cc96\", \"symbol\": \"circle\"}, \"mode\": \"markers\", \"name\": \"virginica\", \"orientation\": \"v\", \"showlegend\": true, \"type\": \"scatter\", \"x\": [20.79, 15.66, 21.299999999999997, 18.27, 19.5, 22.799999999999997, 12.25, 21.169999999999998, 16.75, 25.92, 20.8, 17.28, 20.4, 14.25, 16.24, 20.480000000000004, 19.5, 29.259999999999998, 20.02, 13.200000000000001, 22.080000000000002, 15.679999999999998, 21.56, 17.01, 22.11, 23.040000000000003, 17.36, 18.299999999999997, 17.919999999999998, 21.6, 20.72, 30.02, 17.919999999999998, 17.639999999999997, 15.86, 23.1, 21.419999999999998, 19.840000000000003, 18.0, 21.39, 20.77, 21.39, 15.66, 21.76, 22.11, 20.1, 15.75, 19.5, 21.08, 17.700000000000003], \"xaxis\": \"x\", \"y\": [15.0, 9.69, 12.39, 10.08, 12.76, 13.86, 7.6499999999999995, 11.34, 10.44, 15.25, 10.2, 10.069999999999999, 11.55, 10.0, 12.239999999999998, 12.19, 9.9, 14.740000000000002, 15.87, 7.5, 13.11, 9.8, 13.4, 8.82, 11.97, 10.8, 8.64, 8.82, 11.76, 9.28, 11.589999999999998, 12.8, 12.32, 7.6499999999999995, 7.839999999999999, 14.029999999999998, 13.44, 9.9, 8.64, 11.340000000000002, 13.44, 11.729999999999999, 9.69, 13.57, 14.25, 11.959999999999999, 9.5, 10.4, 12.42, 9.18], \"yaxis\": \"y\"}],                        {\"legend\": {\"title\": {\"text\": \"species\"}, \"tracegroupgap\": 0}, \"margin\": {\"t\": 60}, \"template\": {\"data\": {\"bar\": [{\"error_x\": {\"color\": \"#2a3f5f\"}, \"error_y\": {\"color\": \"#2a3f5f\"}, \"marker\": {\"line\": {\"color\": \"#E5ECF6\", \"width\": 0.5}}, \"type\": \"bar\"}], \"barpolar\": [{\"marker\": {\"line\": {\"color\": \"#E5ECF6\", \"width\": 0.5}}, \"type\": \"barpolar\"}], \"carpet\": [{\"aaxis\": {\"endlinecolor\": \"#2a3f5f\", \"gridcolor\": \"white\", \"linecolor\": \"white\", \"minorgridcolor\": \"white\", \"startlinecolor\": \"#2a3f5f\"}, \"baxis\": {\"endlinecolor\": \"#2a3f5f\", \"gridcolor\": \"white\", \"linecolor\": \"white\", \"minorgridcolor\": \"white\", \"startlinecolor\": \"#2a3f5f\"}, \"type\": \"carpet\"}], \"choropleth\": [{\"colorbar\": {\"outlinewidth\": 0, \"ticks\": \"\"}, \"type\": \"choropleth\"}], \"contour\": [{\"colorbar\": {\"outlinewidth\": 0, \"ticks\": \"\"}, \"colorscale\": [[0.0, \"#0d0887\"], [0.1111111111111111, \"#46039f\"], [0.2222222222222222, \"#7201a8\"], [0.3333333333333333, \"#9c179e\"], [0.4444444444444444, \"#bd3786\"], [0.5555555555555556, \"#d8576b\"], [0.6666666666666666, \"#ed7953\"], [0.7777777777777778, \"#fb9f3a\"], [0.8888888888888888, \"#fdca26\"], [1.0, \"#f0f921\"]], \"type\": \"contour\"}], \"contourcarpet\": [{\"colorbar\": {\"outlinewidth\": 0, \"ticks\": \"\"}, \"type\": \"contourcarpet\"}], \"heatmap\": [{\"colorbar\": {\"outlinewidth\": 0, \"ticks\": \"\"}, \"colorscale\": [[0.0, \"#0d0887\"], [0.1111111111111111, \"#46039f\"], [0.2222222222222222, \"#7201a8\"], [0.3333333333333333, \"#9c179e\"], [0.4444444444444444, \"#bd3786\"], [0.5555555555555556, \"#d8576b\"], [0.6666666666666666, \"#ed7953\"], [0.7777777777777778, \"#fb9f3a\"], [0.8888888888888888, \"#fdca26\"], [1.0, \"#f0f921\"]], \"type\": \"heatmap\"}], \"heatmapgl\": [{\"colorbar\": {\"outlinewidth\": 0, \"ticks\": \"\"}, \"colorscale\": [[0.0, \"#0d0887\"], [0.1111111111111111, \"#46039f\"], [0.2222222222222222, \"#7201a8\"], [0.3333333333333333, \"#9c179e\"], [0.4444444444444444, \"#bd3786\"], [0.5555555555555556, \"#d8576b\"], [0.6666666666666666, \"#ed7953\"], [0.7777777777777778, \"#fb9f3a\"], [0.8888888888888888, \"#fdca26\"], [1.0, \"#f0f921\"]], \"type\": \"heatmapgl\"}], \"histogram\": [{\"marker\": {\"colorbar\": {\"outlinewidth\": 0, \"ticks\": \"\"}}, \"type\": \"histogram\"}], \"histogram2d\": [{\"colorbar\": {\"outlinewidth\": 0, \"ticks\": \"\"}, \"colorscale\": [[0.0, \"#0d0887\"], [0.1111111111111111, \"#46039f\"], [0.2222222222222222, \"#7201a8\"], [0.3333333333333333, \"#9c179e\"], [0.4444444444444444, \"#bd3786\"], [0.5555555555555556, \"#d8576b\"], [0.6666666666666666, \"#ed7953\"], [0.7777777777777778, \"#fb9f3a\"], [0.8888888888888888, \"#fdca26\"], [1.0, \"#f0f921\"]], \"type\": \"histogram2d\"}], \"histogram2dcontour\": [{\"colorbar\": {\"outlinewidth\": 0, \"ticks\": \"\"}, \"colorscale\": [[0.0, \"#0d0887\"], [0.1111111111111111, \"#46039f\"], [0.2222222222222222, \"#7201a8\"], [0.3333333333333333, \"#9c179e\"], [0.4444444444444444, \"#bd3786\"], [0.5555555555555556, \"#d8576b\"], [0.6666666666666666, \"#ed7953\"], [0.7777777777777778, \"#fb9f3a\"], [0.8888888888888888, \"#fdca26\"], [1.0, \"#f0f921\"]], \"type\": \"histogram2dcontour\"}], \"mesh3d\": [{\"colorbar\": {\"outlinewidth\": 0, \"ticks\": \"\"}, \"type\": \"mesh3d\"}], \"parcoords\": [{\"line\": {\"colorbar\": {\"outlinewidth\": 0, \"ticks\": \"\"}}, \"type\": \"parcoords\"}], \"pie\": [{\"automargin\": true, \"type\": \"pie\"}], \"scatter\": [{\"marker\": {\"colorbar\": {\"outlinewidth\": 0, \"ticks\": \"\"}}, \"type\": \"scatter\"}], \"scatter3d\": [{\"line\": {\"colorbar\": {\"outlinewidth\": 0, \"ticks\": \"\"}}, \"marker\": {\"colorbar\": {\"outlinewidth\": 0, \"ticks\": \"\"}}, \"type\": \"scatter3d\"}], \"scattercarpet\": [{\"marker\": {\"colorbar\": {\"outlinewidth\": 0, \"ticks\": \"\"}}, \"type\": \"scattercarpet\"}], \"scattergeo\": [{\"marker\": {\"colorbar\": {\"outlinewidth\": 0, \"ticks\": \"\"}}, \"type\": \"scattergeo\"}], \"scattergl\": [{\"marker\": {\"colorbar\": {\"outlinewidth\": 0, \"ticks\": \"\"}}, \"type\": \"scattergl\"}], \"scattermapbox\": [{\"marker\": {\"colorbar\": {\"outlinewidth\": 0, \"ticks\": \"\"}}, \"type\": \"scattermapbox\"}], \"scatterpolar\": [{\"marker\": {\"colorbar\": {\"outlinewidth\": 0, \"ticks\": \"\"}}, \"type\": \"scatterpolar\"}], \"scatterpolargl\": [{\"marker\": {\"colorbar\": {\"outlinewidth\": 0, \"ticks\": \"\"}}, \"type\": \"scatterpolargl\"}], \"scatterternary\": [{\"marker\": {\"colorbar\": {\"outlinewidth\": 0, \"ticks\": \"\"}}, \"type\": \"scatterternary\"}], \"surface\": [{\"colorbar\": {\"outlinewidth\": 0, \"ticks\": \"\"}, \"colorscale\": [[0.0, \"#0d0887\"], [0.1111111111111111, \"#46039f\"], [0.2222222222222222, \"#7201a8\"], [0.3333333333333333, \"#9c179e\"], [0.4444444444444444, \"#bd3786\"], [0.5555555555555556, \"#d8576b\"], [0.6666666666666666, \"#ed7953\"], [0.7777777777777778, \"#fb9f3a\"], [0.8888888888888888, \"#fdca26\"], [1.0, \"#f0f921\"]], \"type\": \"surface\"}], \"table\": [{\"cells\": {\"fill\": {\"color\": \"#EBF0F8\"}, \"line\": {\"color\": \"white\"}}, \"header\": {\"fill\": {\"color\": \"#C8D4E3\"}, \"line\": {\"color\": \"white\"}}, \"type\": \"table\"}]}, \"layout\": {\"annotationdefaults\": {\"arrowcolor\": \"#2a3f5f\", \"arrowhead\": 0, \"arrowwidth\": 1}, \"autotypenumbers\": \"strict\", \"coloraxis\": {\"colorbar\": {\"outlinewidth\": 0, \"ticks\": \"\"}}, \"colorscale\": {\"diverging\": [[0, \"#8e0152\"], [0.1, \"#c51b7d\"], [0.2, \"#de77ae\"], [0.3, \"#f1b6da\"], [0.4, \"#fde0ef\"], [0.5, \"#f7f7f7\"], [0.6, \"#e6f5d0\"], [0.7, \"#b8e186\"], [0.8, \"#7fbc41\"], [0.9, \"#4d9221\"], [1, \"#276419\"]], \"sequential\": [[0.0, \"#0d0887\"], [0.1111111111111111, \"#46039f\"], [0.2222222222222222, \"#7201a8\"], [0.3333333333333333, \"#9c179e\"], [0.4444444444444444, \"#bd3786\"], [0.5555555555555556, \"#d8576b\"], [0.6666666666666666, \"#ed7953\"], [0.7777777777777778, \"#fb9f3a\"], [0.8888888888888888, \"#fdca26\"], [1.0, \"#f0f921\"]], \"sequentialminus\": [[0.0, \"#0d0887\"], [0.1111111111111111, \"#46039f\"], [0.2222222222222222, \"#7201a8\"], [0.3333333333333333, \"#9c179e\"], [0.4444444444444444, \"#bd3786\"], [0.5555555555555556, \"#d8576b\"], [0.6666666666666666, \"#ed7953\"], [0.7777777777777778, \"#fb9f3a\"], [0.8888888888888888, \"#fdca26\"], [1.0, \"#f0f921\"]]}, \"colorway\": [\"#636efa\", \"#EF553B\", \"#00cc96\", \"#ab63fa\", \"#FFA15A\", \"#19d3f3\", \"#FF6692\", \"#B6E880\", \"#FF97FF\", \"#FECB52\"], \"font\": {\"color\": \"#2a3f5f\"}, \"geo\": {\"bgcolor\": \"white\", \"lakecolor\": \"white\", \"landcolor\": \"#E5ECF6\", \"showlakes\": true, \"showland\": true, \"subunitcolor\": \"white\"}, \"hoverlabel\": {\"align\": \"left\"}, \"hovermode\": \"closest\", \"mapbox\": {\"style\": \"light\"}, \"paper_bgcolor\": \"white\", \"plot_bgcolor\": \"#E5ECF6\", \"polar\": {\"angularaxis\": {\"gridcolor\": \"white\", \"linecolor\": \"white\", \"ticks\": \"\"}, \"bgcolor\": \"#E5ECF6\", \"radialaxis\": {\"gridcolor\": \"white\", \"linecolor\": \"white\", \"ticks\": \"\"}}, \"scene\": {\"xaxis\": {\"backgroundcolor\": \"#E5ECF6\", \"gridcolor\": \"white\", \"gridwidth\": 2, \"linecolor\": \"white\", \"showbackground\": true, \"ticks\": \"\", \"zerolinecolor\": \"white\"}, \"yaxis\": {\"backgroundcolor\": \"#E5ECF6\", \"gridcolor\": \"white\", \"gridwidth\": 2, \"linecolor\": \"white\", \"showbackground\": true, \"ticks\": \"\", \"zerolinecolor\": \"white\"}, \"zaxis\": {\"backgroundcolor\": \"#E5ECF6\", \"gridcolor\": \"white\", \"gridwidth\": 2, \"linecolor\": \"white\", \"showbackground\": true, \"ticks\": \"\", \"zerolinecolor\": \"white\"}}, \"shapedefaults\": {\"line\": {\"color\": \"#2a3f5f\"}}, \"ternary\": {\"aaxis\": {\"gridcolor\": \"white\", \"linecolor\": \"white\", \"ticks\": \"\"}, \"baxis\": {\"gridcolor\": \"white\", \"linecolor\": \"white\", \"ticks\": \"\"}, \"bgcolor\": \"#E5ECF6\", \"caxis\": {\"gridcolor\": \"white\", \"linecolor\": \"white\", \"ticks\": \"\"}}, \"title\": {\"x\": 0.05}, \"xaxis\": {\"automargin\": true, \"gridcolor\": \"white\", \"linecolor\": \"white\", \"ticks\": \"\", \"title\": {\"standoff\": 15}, \"zerolinecolor\": \"white\", \"zerolinewidth\": 2}, \"yaxis\": {\"automargin\": true, \"gridcolor\": \"white\", \"linecolor\": \"white\", \"ticks\": \"\", \"title\": {\"standoff\": 15}, \"zerolinecolor\": \"white\", \"zerolinewidth\": 2}}}, \"xaxis\": {\"anchor\": \"y\", \"domain\": [0.0, 1.0], \"title\": {\"text\": \"sepal_area\"}}, \"yaxis\": {\"anchor\": \"x\", \"domain\": [0.0, 1.0], \"title\": {\"text\": \"petal_area\"}}},                        {\"responsive\": true}                    ).then(function(){\n",
       "                            \n",
       "var gd = document.getElementById('6db25964-3b6e-455e-871b-82a5d541ecc3');\n",
       "var x = new MutationObserver(function (mutations, observer) {{\n",
       "        var display = window.getComputedStyle(gd).display;\n",
       "        if (!display || display === 'none') {{\n",
       "            console.log([gd, 'removed!']);\n",
       "            Plotly.purge(gd);\n",
       "            observer.disconnect();\n",
       "        }}\n",
       "}});\n",
       "\n",
       "// Listen for the removal of the full notebook cells\n",
       "var notebookContainer = gd.closest('#notebook-container');\n",
       "if (notebookContainer) {{\n",
       "    x.observe(notebookContainer, {childList: true});\n",
       "}}\n",
       "\n",
       "// Listen for the clearing of the current output cell\n",
       "var outputEl = gd.closest('.output');\n",
       "if (outputEl) {{\n",
       "    x.observe(outputEl, {childList: true});\n",
       "}}\n",
       "\n",
       "                        })                };                });            </script>        </div>"
      ]
     },
     "metadata": {},
     "output_type": "display_data"
    },
    {
     "name": "stdout",
     "output_type": "stream",
     "text": [
      "A visualização confirma a boa separação das classes pela feature petal_area criada\n"
     ]
    }
   ],
   "source": [
    "iris_features = calcula_features_area(iris_data)\n",
    "display(iris_features.head())\n",
    "display(px.scatter(iris_features, x = 'sepal_area', y = 'petal_area', color = 'species'))\n",
    "print(\"A visualização confirma a boa separação das classes pela feature petal_area criada\")"
   ]
  },
  {
   "cell_type": "markdown",
   "id": "74f90d40-4dbc-45f8-b526-6b76b8fc9223",
   "metadata": {},
   "source": [
    "## model_training\n",
    "\n",
    "Módulo responsável pelo treinamento e armazenamento de modelos. \n",
    "No exemplo, 2 classificadores são treinados e salvos como arquivos no formato .pkl.\n",
    "* **divide_treino_teste:** Divide dataset de features em vetores X e Y de treino e teste\n",
    "* **dataframes_treino_teste:** Armazena valores de X_train e Y_train em dataframe de treinamento (df_train) e valores de X_test e Y_test em dataframe de teste (df_test)\n",
    "* **treinamento_knn_svm:** Treina classificadores KNN e SVM"
   ]
  },
  {
   "cell_type": "code",
   "execution_count": 14,
   "id": "604c2f11-7a15-448f-8c71-b1a04311fe9e",
   "metadata": {},
   "outputs": [],
   "source": [
    "##################################################\n",
    "def divide_treino_teste(iris_features:   pd.DataFrame,\n",
    "                        feature_list:    list,\n",
    "                        target:          str,\n",
    "                       ) -> [np.ndarray, np.ndarray, np.ndarray, np.ndarray]:\n",
    "    \n",
    "    \"\"\"\n",
    "    Divide dataset de features em vetores X e Y de treino e teste\n",
    "\n",
    "    Args:\n",
    "    iris_features(pd.DataFrame): dataframe de features\n",
    "\n",
    "    Returns:\n",
    "    X_train(np.ndarray): array com features para treinamento do modelo\n",
    "    X_test(np.ndarray):  array com features para predição\n",
    "    Y_train(np.ndarray): array com rótulos para treinamento do modelo\n",
    "    Y_test(np.ndarray):  array com rótulos para validação da predição\n",
    "    \n",
    "    \"\"\"\n",
    "\n",
    "    # Converte dataframes para arrays\n",
    "    X = iris_features[feature_list].values\n",
    "    Y = iris_features[[target]].values\n",
    "\n",
    "    # Divide dataframes em treino e teste\n",
    "    X_train, X_test, Y_train, Y_test = train_test_split(X, Y, stratify = Y, test_size=0.33, random_state=42)\n",
    "\n",
    "    \n",
    "    # Avalia balanceamento de classes em dataset de treino e teste\n",
    "    unique, counts = np.unique(Y_train, return_counts=True)\n",
    "    print('distribuição treino',dict(zip(unique,counts)))\n",
    "\n",
    "    unique, counts = np.unique(Y_test, return_counts=True)\n",
    "    print('distribuição treino',dict(zip(unique,counts)))\n",
    "\n",
    "    \n",
    "    return [X_train, X_test, Y_train, Y_test]\n",
    "\n",
    "\n",
    "\n",
    "##################################################\n",
    "def dataframes_treino_teste(X_train: np.ndarray,\n",
    "                            X_test:  np.ndarray,\n",
    "                            Y_train: np.ndarray,\n",
    "                            Y_test:  np.ndarray,\n",
    "                            feature_list:  list,\n",
    "                            target:         str,\n",
    "                           ) -> [pd.DataFrame, pd.DataFrame]:\n",
    "    \n",
    "    \"\"\"\n",
    "    Armazena valores de X_train e Y_train em dataframe de treinamento (df_train) e valores de X_test e Y_test em dataframe de teste (df_test)\n",
    "\n",
    "    Args:\n",
    "    X_train(np.ndarray): array com features para treinamento do modelo\n",
    "    X_test(np.ndarray):  array com features para predição\n",
    "    Y_train(np.ndarray): array com rótulos para treinamento do modelo\n",
    "    Y_test(np.ndarray):  array com rótulos para validação da predição\n",
    "\n",
    "    Returns:\n",
    "    df_train(pd.DataFrame): contém instâncias (features e rótulos) para treinamento\n",
    "    df_test(pd.DataFrame):  contém instâncias (features e rótulos) para teste\n",
    "    \"\"\"\n",
    "\n",
    "    # Trata valores  \n",
    "    df_train = pd.DataFrame({target:Y_train.ravel()})\n",
    "    df_test  = pd.DataFrame({target:Y_test.ravel()})\n",
    "\n",
    "\n",
    "    for f in range(len(feature_list)):\n",
    "        df_train[feature_list[f]] = X_train[:,f]\n",
    "        df_test[feature_list[f]]  = X_test[:,f]\n",
    "\n",
    "\n",
    "    return [df_train, df_test]\n",
    "\n",
    "\n",
    "\n",
    "##################################################\n",
    "def treinamento_knn_svm(X_train: np.ndarray,\n",
    "                        Y_train: np.ndarray,\n",
    "                        k_neighbors: int,\n",
    "                       ):\n",
    "    \n",
    "    \"\"\"\n",
    "    Treina classificadores KNN e SVM\n",
    "\n",
    "    Args:\n",
    "    X_train(np.ndarray): array com features para treinamento do modelo\n",
    "    Y_train(np.ndarray): array com rótulos para treinamento do modelo\n",
    "\n",
    "    Returns:\n",
    "    knn_classifier(pkl): classificador KNN treinado\n",
    "    svm_classifier(pkl): classificador SVM treinado\n",
    "    \"\"\"\n",
    "\n",
    "    # Treina classificador KNN\n",
    "    knn_classifier = KNeighborsClassifier(k_neighbors)\n",
    "    knn_classifier.fit(X_train,Y_train.ravel())\n",
    "\n",
    "    # Treina classificador SVM\n",
    "    svm_classifier = SVC()\n",
    "    svm_classifier.fit(X_train,Y_train.ravel())\n",
    "\n",
    "    return [knn_classifier, svm_classifier]"
   ]
  },
  {
   "cell_type": "code",
   "execution_count": 16,
   "id": "62f1c079-d16d-4278-957a-b6633baa3453",
   "metadata": {},
   "outputs": [],
   "source": [
    "### Parâmetros machine_learning pipeline\n",
    "feature_list = ['sepal_length','sepal_width','petal_length','petal_width','sepal_area','petal_area']\n",
    "target =        'species'\n",
    "k_neighbors =   5"
   ]
  },
  {
   "cell_type": "code",
   "execution_count": 17,
   "id": "644fb530-eee8-4b7a-9358-72d8159a17ac",
   "metadata": {},
   "outputs": [
    {
     "name": "stdout",
     "output_type": "stream",
     "text": [
      "distribuição treino {'setosa': 34, 'versicolor': 33, 'virginica': 33}\n",
      "distribuição treino {'setosa': 16, 'versicolor': 17, 'virginica': 17}\n"
     ]
    }
   ],
   "source": [
    "X_train, X_test, Y_train, Y_test = divide_treino_teste(iris_features,\n",
    "                                                       feature_list,\n",
    "                                                       target,\n",
    "                                                      )\n",
    "\n",
    "\n",
    "df_train, df_test = dataframes_treino_teste(X_train,\n",
    "                                            X_test,\n",
    "                                            Y_train,\n",
    "                                            Y_test,\n",
    "                                            feature_list,\n",
    "                                            target,\n",
    "                                           )\n",
    "\n",
    "\n",
    "knn_classifier, svm_classifier = treinamento_knn_svm(X_train,\n",
    "                                                     Y_train,\n",
    "                                                     k_neighbors,\n",
    "                                                    )"
   ]
  },
  {
   "cell_type": "markdown",
   "id": "24360e84-37af-4fae-8f07-5ae5b1a446b1",
   "metadata": {},
   "source": [
    "## prediction\n",
    "\n",
    "Módulo responsável pelo carregamento de modelos pré treinados e datasets de features para geração de previsões. Também é nesta etapa que as previsões geradas são armazenadas. \n",
    "No exemplo, as classificações são geradas e armazenadas localmente.\n",
    "* **divide_treino_teste:** Divide dataset de features em vetores X e Y de treino e teste\n",
    "* **realiza_classificacoes:** Carrega classificadores KNN e SVM pré treinados e realiza classificações sobre valores de X_test"
   ]
  },
  {
   "cell_type": "code",
   "execution_count": 19,
   "id": "4c8a31ed-7e6e-4f5d-9f85-a8b2dd42b916",
   "metadata": {},
   "outputs": [],
   "source": [
    "def realiza_classificacoes(knn_classifier,\n",
    "                           svm_classifier,\n",
    "                           df_test: pd.DataFrame,\n",
    "                           X_test:  np.ndarray,\n",
    "                           Y_test:  np.ndarray,\n",
    "                          ) -> pd.DataFrame:\n",
    "    \n",
    "    \"\"\"\n",
    "    Carrega classificadores KNN e SVM pré treinados e realiza classificações sobre valores de X_test\n",
    "\n",
    "    Args:\n",
    "    knn_classifier(pkl):   classificador KNN treinado\n",
    "    svm_classifier(pkl):   classificador SVM treinado\n",
    "    df_test(pd.DataFrame): contém instâncias (features e rótulos) para teste\n",
    "    X_test(np.ndarray):    array com features para predição\n",
    "    Y_test(np.ndarray):    array com rótulos para validação da predição\n",
    "\n",
    "    Returns:\n",
    "    df_predicoes(pd.DataFrame): dataframe com predições de SVM e KNN, features utilizadas e rótulos verdadeiros\n",
    "    \n",
    "    \"\"\"\n",
    "\n",
    "    ### Realiza predições e printa score de acurácia\n",
    "    knn_pred = knn_classifier.predict(X_test)\n",
    "    print('Acurácia KNN:', accuracy_score(Y_test, knn_pred))\n",
    "\n",
    "    svm_pred = svm_classifier.predict(X_test)\n",
    "    print('Acurácia SVM:', accuracy_score(Y_test, svm_pred))\n",
    "\n",
    "    ### Adiciona predições a dataset\n",
    "    df_predicoes = df_test.copy()\n",
    "    \n",
    "    df_predicoes['knn_species'] = knn_pred\n",
    "    df_predicoes['svm_species'] = svm_pred\n",
    "    \n",
    "    return df_predicoes"
   ]
  },
  {
   "cell_type": "code",
   "execution_count": 20,
   "id": "a3e65444-f7bd-4b51-87ca-7ea8da772235",
   "metadata": {},
   "outputs": [
    {
     "name": "stdout",
     "output_type": "stream",
     "text": [
      "Acurácia KNN: 0.96\n",
      "Acurácia SVM: 0.94\n"
     ]
    },
    {
     "data": {
      "text/html": [
       "<div>\n",
       "<style scoped>\n",
       "    .dataframe tbody tr th:only-of-type {\n",
       "        vertical-align: middle;\n",
       "    }\n",
       "\n",
       "    .dataframe tbody tr th {\n",
       "        vertical-align: top;\n",
       "    }\n",
       "\n",
       "    .dataframe thead th {\n",
       "        text-align: right;\n",
       "    }\n",
       "</style>\n",
       "<table border=\"1\" class=\"dataframe\">\n",
       "  <thead>\n",
       "    <tr style=\"text-align: right;\">\n",
       "      <th></th>\n",
       "      <th>species</th>\n",
       "      <th>sepal_length</th>\n",
       "      <th>sepal_width</th>\n",
       "      <th>petal_length</th>\n",
       "      <th>petal_width</th>\n",
       "      <th>sepal_area</th>\n",
       "      <th>petal_area</th>\n",
       "      <th>knn_species</th>\n",
       "      <th>svm_species</th>\n",
       "    </tr>\n",
       "  </thead>\n",
       "  <tbody>\n",
       "    <tr>\n",
       "      <th>0</th>\n",
       "      <td>virginica</td>\n",
       "      <td>6.3</td>\n",
       "      <td>2.8</td>\n",
       "      <td>5.1</td>\n",
       "      <td>1.5</td>\n",
       "      <td>17.64</td>\n",
       "      <td>7.65</td>\n",
       "      <td>versicolor</td>\n",
       "      <td>versicolor</td>\n",
       "    </tr>\n",
       "    <tr>\n",
       "      <th>1</th>\n",
       "      <td>versicolor</td>\n",
       "      <td>6.3</td>\n",
       "      <td>3.3</td>\n",
       "      <td>4.7</td>\n",
       "      <td>1.6</td>\n",
       "      <td>20.79</td>\n",
       "      <td>7.52</td>\n",
       "      <td>versicolor</td>\n",
       "      <td>versicolor</td>\n",
       "    </tr>\n",
       "    <tr>\n",
       "      <th>2</th>\n",
       "      <td>setosa</td>\n",
       "      <td>5.0</td>\n",
       "      <td>3.4</td>\n",
       "      <td>1.5</td>\n",
       "      <td>0.2</td>\n",
       "      <td>17.00</td>\n",
       "      <td>0.30</td>\n",
       "      <td>setosa</td>\n",
       "      <td>setosa</td>\n",
       "    </tr>\n",
       "    <tr>\n",
       "      <th>3</th>\n",
       "      <td>versicolor</td>\n",
       "      <td>5.8</td>\n",
       "      <td>2.7</td>\n",
       "      <td>4.1</td>\n",
       "      <td>1.0</td>\n",
       "      <td>15.66</td>\n",
       "      <td>4.10</td>\n",
       "      <td>versicolor</td>\n",
       "      <td>versicolor</td>\n",
       "    </tr>\n",
       "    <tr>\n",
       "      <th>4</th>\n",
       "      <td>virginica</td>\n",
       "      <td>7.3</td>\n",
       "      <td>2.9</td>\n",
       "      <td>6.3</td>\n",
       "      <td>1.8</td>\n",
       "      <td>21.17</td>\n",
       "      <td>11.34</td>\n",
       "      <td>virginica</td>\n",
       "      <td>virginica</td>\n",
       "    </tr>\n",
       "  </tbody>\n",
       "</table>\n",
       "</div>"
      ],
      "text/plain": [
       "      species  sepal_length  sepal_width  petal_length  petal_width  \\\n",
       "0   virginica           6.3          2.8           5.1          1.5   \n",
       "1  versicolor           6.3          3.3           4.7          1.6   \n",
       "2      setosa           5.0          3.4           1.5          0.2   \n",
       "3  versicolor           5.8          2.7           4.1          1.0   \n",
       "4   virginica           7.3          2.9           6.3          1.8   \n",
       "\n",
       "   sepal_area  petal_area knn_species svm_species  \n",
       "0       17.64        7.65  versicolor  versicolor  \n",
       "1       20.79        7.52  versicolor  versicolor  \n",
       "2       17.00        0.30      setosa      setosa  \n",
       "3       15.66        4.10  versicolor  versicolor  \n",
       "4       21.17       11.34   virginica   virginica  "
      ]
     },
     "execution_count": 20,
     "metadata": {},
     "output_type": "execute_result"
    }
   ],
   "source": [
    "df_predicoes = realiza_classificacoes(knn_classifier,\n",
    "                                      svm_classifier,\n",
    "                                      df_test,\n",
    "                                      X_test,\n",
    "                                      Y_test\n",
    "                                     )\n",
    "\n",
    "df_predicoes.head()"
   ]
  }
 ],
 "metadata": {
  "environment": {
   "kernel": "python3",
   "name": "common-cpu.m94",
   "type": "gcloud",
   "uri": "gcr.io/deeplearning-platform-release/base-cpu:m94"
  },
  "kernelspec": {
   "display_name": "Python 3",
   "language": "python",
   "name": "python3"
  },
  "language_info": {
   "codemirror_mode": {
    "name": "ipython",
    "version": 3
   },
   "file_extension": ".py",
   "mimetype": "text/x-python",
   "name": "python",
   "nbconvert_exporter": "python",
   "pygments_lexer": "ipython3",
   "version": "3.7.12"
  }
 },
 "nbformat": 4,
 "nbformat_minor": 5
}
